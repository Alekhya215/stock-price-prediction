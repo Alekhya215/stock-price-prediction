{
 "cells": [
  {
   "cell_type": "markdown",
   "id": "dc802dcc",
   "metadata": {},
   "source": [
    "# Stock Price Prediction (LSTM)\n",
    "\n",
    "Change `TICKER` below and run cells top-to-bottom."
   ]
  },
  {
   "cell_type": "code",
   "execution_count": null,
   "id": "7c556052",
   "metadata": {},
   "outputs": [],
   "source": [
    "\n",
    "# --- Imports\n",
    "import os, math\n",
    "import numpy as np\n",
    "import pandas as pd\n",
    "import matplotlib.pyplot as plt\n",
    "\n",
    "import yfinance as yf\n",
    "from sklearn.preprocessing import MinMaxScaler\n",
    "from tensorflow.keras import Sequential\n",
    "from tensorflow.keras.layers import LSTM, Dense, Dropout\n",
    "\n",
    "# Plot inline\n",
    "%matplotlib inline\n",
    "\n",
    "print(\"Libraries imported.\")\n"
   ]
  },
  {
   "cell_type": "code",
   "execution_count": null,
   "id": "8eeaa3a1",
   "metadata": {},
   "outputs": [],
   "source": [
    "\n",
    "# --- Config\n",
    "TICKER = \"AAPL\"\n",
    "START_DATE = \"2015-01-01\"\n",
    "END_DATE = \"2023-12-31\"\n",
    "LOOKBACK = 60  # days\n",
    "\n",
    "save_dir = \"images\"\n",
    "os.makedirs(save_dir, exist_ok=True)\n"
   ]
  },
  {
   "cell_type": "code",
   "execution_count": null,
   "id": "02dcfda4",
   "metadata": {},
   "outputs": [],
   "source": [
    "\n",
    "# --- Download Data\n",
    "df = yf.download(TICKER, start=START_DATE, end=END_DATE)\n",
    "assert not df.empty, \"No data downloaded. Check ticker or dates.\"\n",
    "df.head()\n"
   ]
  },
  {
   "cell_type": "code",
   "execution_count": null,
   "id": "6b386eff",
   "metadata": {},
   "outputs": [],
   "source": [
    "\n",
    "# --- Feature Engineering\n",
    "data = df.copy()\n",
    "data[\"MA20\"] = data[\"Close\"].rolling(window=20).mean()\n",
    "data[\"MA50\"] = data[\"Close\"].rolling(window=50).mean()\n",
    "data = data.dropna()\n",
    "data.tail()\n"
   ]
  },
  {
   "cell_type": "code",
   "execution_count": null,
   "id": "f77bedf2",
   "metadata": {},
   "outputs": [],
   "source": [
    "\n",
    "# --- Scaling\n",
    "features = data[[\"Close\", \"MA20\", \"MA50\"]].values\n",
    "scaler = MinMaxScaler(feature_range=(0, 1))\n",
    "scaled = scaler.fit_transform(features)\n",
    "\n",
    "def make_sequences(arr, lookback=60):\n",
    "    X, y = [], []\n",
    "    for i in range(lookback, len(arr)):\n",
    "        X.append(arr[i - lookback:i])\n",
    "        y.append(arr[i, 0])  # 'Close' is at index 0\n",
    "    return np.array(X), np.array(y)\n",
    "\n",
    "X, y = make_sequences(scaled, LOOKBACK)\n",
    "print(\"Shapes -> X:\", X.shape, \"y:\", y.shape)\n"
   ]
  },
  {
   "cell_type": "code",
   "execution_count": null,
   "id": "c74f7df6",
   "metadata": {},
   "outputs": [],
   "source": [
    "\n",
    "# --- Train / Test Split (80/20)\n",
    "split_idx = int(len(X) * 0.8)\n",
    "X_train, X_test = X[:split_idx], X[split_idx:]\n",
    "y_train, y_test = y[:split_idx], y[split_idx:]\n",
    "len(X_train), len(X_test)\n"
   ]
  },
  {
   "cell_type": "code",
   "execution_count": null,
   "id": "2c78a4b2",
   "metadata": {},
   "outputs": [],
   "source": [
    "\n",
    "# --- Build Model\n",
    "model = Sequential([\n",
    "    LSTM(64, return_sequences=True, input_shape=(X.shape[1], X.shape[2])),\n",
    "    Dropout(0.2),\n",
    "    LSTM(64, return_sequences=False),\n",
    "    Dropout(0.2),\n",
    "    Dense(32, activation=\"relu\"),\n",
    "    Dense(1)\n",
    "])\n",
    "\n",
    "model.compile(optimizer=\"adam\", loss=\"mse\")\n",
    "model.summary()\n"
   ]
  },
  {
   "cell_type": "code",
   "execution_count": null,
   "id": "fc3e4d2c",
   "metadata": {},
   "outputs": [],
   "source": [
    "\n",
    "# --- Train\n",
    "history = model.fit(\n",
    "    X_train, y_train,\n",
    "    validation_data=(X_test, y_test),\n",
    "    epochs=10,\n",
    "    batch_size=32,\n",
    "    verbose=1\n",
    ")\n"
   ]
  },
  {
   "cell_type": "code",
   "execution_count": null,
   "id": "ad217772",
   "metadata": {},
   "outputs": [],
   "source": [
    "\n",
    "# --- Evaluate & Visualize\n",
    "pred = model.predict(X_test).flatten()\n",
    "\n",
    "plt.figure(figsize=(12, 6))\n",
    "plt.plot(y_test, label=\"Actual\")\n",
    "plt.plot(pred, label=\"Predicted\")\n",
    "plt.title(f\"{TICKER} — Actual vs Predicted (Test Set)\")\n",
    "plt.xlabel(\"Days\")\n",
    "plt.ylabel(\"Scaled Close Price\")\n",
    "plt.legend()\n",
    "plot_path = os.path.join(save_dir, \"result_plot.png\")\n",
    "plt.savefig(plot_path, bbox_inches=\"tight\")\n",
    "plot_path\n"
   ]
  },
  {
   "cell_type": "code",
   "execution_count": null,
   "id": "f3683805",
   "metadata": {},
   "outputs": [],
   "source": [
    "\n",
    "# --- Save Model\n",
    "model_path = \"model.h5\"\n",
    "model.save(model_path)\n",
    "model_path\n"
   ]
  }
 ],
 "metadata": {},
 "nbformat": 4,
 "nbformat_minor": 5
}
